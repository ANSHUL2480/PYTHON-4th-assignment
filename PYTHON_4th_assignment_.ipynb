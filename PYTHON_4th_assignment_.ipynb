{
  "nbformat": 4,
  "nbformat_minor": 0,
  "metadata": {
    "colab": {
      "provenance": []
    },
    "kernelspec": {
      "name": "python3",
      "display_name": "Python 3"
    },
    "language_info": {
      "name": "python"
    }
  },
  "cells": [
    {
      "cell_type": "markdown",
      "source": [
        "1. What is Object-Oriented Programming (OOP)?\n",
        "\n",
        "●\n",
        "Object-oriented programming (OOP) is a programming paradigm that organizes software\n",
        "design around data, or objects, rather than functions and logic.\n",
        "\n",
        "2. What is a class in OOP?\n",
        "\n",
        "●\n",
        "A class is a blueprint or template for creating objects in Object-Oriented Programming.\n",
        "Think of a class like a design plan for a house. You can build many houses from the same\n",
        "plan — each house is an object, and the plan is the class\n",
        "\n",
        "3. What is an object in OOP?\n",
        "\n",
        "●\n",
        "An object is an instance of a class. When a class is like a blueprint, an object is the real thing\n",
        "created from that blueprint.\n",
        "\n",
        "4. What is the difference between abstraction and encapsulation?\n",
        "-🧠 a.). Abstraction – “Hiding Complexity, Showing Only Essentials” Focus: What an object does.\n",
        "\n",
        "Goal: Hide unnecessary details and show only the relevant features.\n",
        "\n",
        "Example:\n",
        "\n",
        "When you use a phone, you just tap to call. You don’t need to know the internal circuits or\n",
        "code running inside.\n",
        "\n",
        "📦 In Code:"
      ],
      "metadata": {
        "id": "j4M1r_5aq12Z"
      }
    },
    {
      "cell_type": "code",
      "source": [
        "from abc import ABC, abstractmethod\n",
        "class Vehicle(ABC):\n",
        "     @abstractmethod\n",
        "     def start(self):\n",
        "        pass"
      ],
      "metadata": {
        "id": "STM0A0yArlqn"
      },
      "execution_count": 2,
      "outputs": []
    },
    {
      "cell_type": "markdown",
      "source": [
        "-🔐 b.). Encapsulation – “Protecting Data Inside a Capsule” Focus: How data is protected.\n",
        "\n",
        "\n",
        "\n",
        "Goal: Restrict direct access to some parts of the object (data hiding).\n",
        "\n",
        "Example:\n",
        "\n",
        "You can’t directly change someone’s bank balance. You must go through secure methods\n",
        "(like deposit() or withdraw()).\n",
        "\n",
        "📦 In Code:"
      ],
      "metadata": {
        "id": "LnxWjJAFvhrl"
      }
    },
    {
      "cell_type": "code",
      "source": [
        "class BankAccount:\n",
        "    def __init__(self):\n",
        "      self.__balance = 0 # private variable\n",
        "    def deposit(self, amount):\n",
        "      if amount > 0:\n",
        "       self.__balance += amount"
      ],
      "metadata": {
        "id": "T_Zjz2Ajvv9a"
      },
      "execution_count": 3,
      "outputs": []
    },
    {
      "cell_type": "markdown",
      "source": [
        "5. What are dunder methods in Python?\n",
        "\n",
        "●\n",
        "🐍Dunder methods (short for Double UNDERscore) are special methods in Python that have\n",
        "two underscores before and after their names, like init, str, etc.\n",
        "\n",
        "They’re also called:\n",
        "\n",
        "\n",
        "\n",
        "● Magic methods\n",
        "\n",
        "● Special methods\n",
        "\n",
        "● operations like:\n",
        "\n",
        "● Printing\n",
        "\n",
        "● Adding\n",
        "\n",
        "● Comparing\n",
        "\n",
        "● Creating objects\n",
        "\n",
        "🧠 Purpose: Dunder methods let you define how objects behave with built-in Python\n",
        "\n",
        "6. Explain the concept of inheritance in OOP.\n",
        "\n",
        "●\n",
        "🧬 Inheritance is a fundamental concept in OOP that allows a class (child/subclass) to inherit\n",
        "properties and methods from another class (parent/superclass).\n",
        "\n",
        "-🧠 In Simple Words:\n",
        "-\n",
        "●\n",
        "Inheritance lets you reuse code by allowing one class to take on the characteristics and\n",
        "behavior of another.\n",
        "\n",
        "🔗 Real-life Example:\n",
        "\n",
        "● Vehicle → Base class\n",
        "\n",
        "● Car, Bike, Truck → Child classes All vehicles have common properties like engine, wheels,\n",
        "and start(). Instead of rewriting them in every class, they inherit from Vehicle.\n",
        "\n",
        " 🧱 Python Example:"
      ],
      "metadata": {
        "id": "kU8ssK84wLNY"
      }
    },
    {
      "cell_type": "code",
      "source": [
        "class Vehicle:\n",
        "   def __init__(self, brand):\n",
        "       self.brand = brand\n",
        "   def start(self):\n",
        "       print(f\"{self.brand} vehicle is starting...\")\n",
        "class Car(Vehicle):\n",
        "   def drive(self):\n",
        "       print(f\"{self.brand} car is driving.\")"
      ],
      "metadata": {
        "id": "QIB7OgqbxXsc"
      },
      "execution_count": 4,
      "outputs": []
    },
    {
      "cell_type": "markdown",
      "source": [
        "✅ Why Use Inheritance?\n",
        "\n",
        "● Reusability 🌀\n",
        "\n",
        "● Clean and organized code ✨\n",
        "\n",
        "● Easier to maintain and extend 🔧\n",
        "\n",
        "7. What is polymorphism in OOP?\n",
        "\n",
        "\n",
        "● 🌀 Polymorphism means \"many forms.\" In Object-Oriented Programming, polymorphism\n",
        "allows the same method or function name to behave differently based on the object or\n",
        "context.\n",
        "\n",
        "8. How is encapsulation achieved in Python?\n",
        "\n",
        "\n",
        "● 🔐 Encapsulation is the process of hiding the internal data of an object and only exposing\n",
        "necessary parts through methods. It helps protect the data from unwanted access and\n",
        "modification.\n",
        "\n",
        "-🔧 Example in Python:"
      ],
      "metadata": {
        "id": "LMqLN9z3x-ai"
      }
    },
    {
      "cell_type": "code",
      "source": [
        "class Student:\n",
        "   def __init__(self, name, age):\n",
        "       self.name = name # public\n",
        "       self._age = age # protected\n",
        "       self.__marks = 90 # private\n",
        "   def get_marks(self):\n",
        "       return self.__marks # controlled access"
      ],
      "metadata": {
        "id": "D9uzByzzya8V"
      },
      "execution_count": 5,
      "outputs": []
    },
    {
      "cell_type": "markdown",
      "source": [
        "📦 Encapsulation:\n",
        "\n",
        "\n",
        "✅ Data hiding (__private)\n",
        "\n",
        "✅ Getter and setter methods (optional in Python)\n",
        "\n",
        "✅ Controlled access through methods\n",
        "\n",
        "🔐 Benefits of Encapsulation:\n",
        "\n",
        "\n",
        "● Data security\n",
        "\n",
        "● Avoids accidental changes\n",
        "\n",
        "● Cleaner, more maintainable code\n",
        "\n",
        "9. What is a constructor in Python?\n",
        "\n",
        "\n",
        "●🏗 A constructor in Python is a special method used to initialize objects when a class is\n",
        "created.\n",
        "\n",
        "🔧 Basic Example:"
      ],
      "metadata": {
        "id": "At9ZEdehyuN5"
      }
    },
    {
      "cell_type": "code",
      "source": [
        "class Student:\n",
        "   def __init__(self, name, roll):\n",
        "       self.name = name\n",
        "       self.roll = roll\n",
        "   def display(self):\n",
        "       print(f\"Name: {self.name}, Roll No: {self.roll}\")\n",
        "s1 = Student(\"Anshul\", 105)\n",
        "s1.display()"
      ],
      "metadata": {
        "colab": {
          "base_uri": "https://localhost:8080/"
        },
        "id": "LisECbnnzkLh",
        "outputId": "569b269b-e7bc-411a-f5a9-43e4d949dc88"
      },
      "execution_count": 7,
      "outputs": [
        {
          "output_type": "stream",
          "name": "stdout",
          "text": [
            "Name: Anshul, Roll No: 105\n"
          ]
        }
      ]
    },
    {
      "cell_type": "markdown",
      "source": [
        "🧪 Key Points:\n",
        "\n",
        "● init is the constructor\n",
        "\n",
        "● It’s called automatically when you create an object\n",
        "\n",
        "●It’s used to assign values to object properties\n",
        "\n",
        "10. What are class and static methods in Python?\n",
        "\n",
        "\n",
        "●\n",
        "󰳓Both are special types of methods that are not tied to a specific object, but to the class\n",
        "itself.\n",
        "\n",
        "🔹 1. Class Method\n",
        "\n",
        "● Belongs to the class, not the instance.\n",
        "\n",
        "● Can access and modify class variables.\n",
        "\n",
        "● Defined using the @classmethod decorator.\n",
        "\n",
        "● Takes cls as the first parameter instead of self.\n",
        "\n",
        "✅ Example:\n",
        "\n"
      ],
      "metadata": {
        "id": "tZ8ptyAa0BjO"
      }
    },
    {
      "cell_type": "markdown",
      "source": [],
      "metadata": {
        "id": "62cm2uEurwZz"
      }
    },
    {
      "cell_type": "code",
      "source": [
        "class Student:\n",
        "    school = \"XYZ School\"\n",
        "    @classmethod\n",
        "    def get_school(cls):\n",
        "        return cls.school\n",
        "print(Student.get_school()) # 👉 XYZ School"
      ],
      "metadata": {
        "colab": {
          "base_uri": "https://localhost:8080/"
        },
        "id": "FbRgAQdc0hdZ",
        "outputId": "47cec3b6-352a-479d-fe1c-6ac4555ba287"
      },
      "execution_count": 9,
      "outputs": [
        {
          "output_type": "stream",
          "name": "stdout",
          "text": [
            "XYZ School\n"
          ]
        }
      ]
    },
    {
      "cell_type": "markdown",
      "source": [
        "🔸 2. Static Method\n",
        "\n",
        "● Doesn't access instance (self) or class (cls) variables.\n",
        "\n",
        "● Used when the method doesn’t need object or class context.\n",
        "\n",
        "● Defined using the @staticmethod decorator.\n",
        "\n",
        "✅ Example:\n"
      ],
      "metadata": {
        "id": "ZyEpEhqh09Ta"
      }
    },
    {
      "cell_type": "code",
      "source": [
        "class Math:\n",
        "    @staticmethod\n",
        "    def add(a, b):\n",
        "        return a + b\n",
        "print(Math.add(3, 5)) # 👉 8"
      ],
      "metadata": {
        "colab": {
          "base_uri": "https://localhost:8080/"
        },
        "id": "WEEz2zRl1NPt",
        "outputId": "36dfea15-790b-49cf-b349-925cec6e6cc5"
      },
      "execution_count": 10,
      "outputs": [
        {
          "output_type": "stream",
          "name": "stdout",
          "text": [
            "8\n"
          ]
        }
      ]
    },
    {
      "cell_type": "markdown",
      "source": [
        "11. What is method overloading in Python?\n",
        "\n",
        "\n",
        "● 🔁 Method Overloading is the ability to define multiple methods with the same name but\n",
        "different parameters in the same class. However, Python does not support traditional method\n",
        "overloading (as seen in languages like Java or C++), because Python uses dynamic typing\n",
        "and does not distinguish methods by the number or types of their parameters.\n",
        "\n",
        "● But, we can still simulate method overloading in Python by using default arguments or\n",
        "variable-length argument lists.\n",
        "\n",
        "🔧 Simulating Method Overloading in Python:\n",
        "\n",
        "🛠 1. Using Default Arguments:"
      ],
      "metadata": {
        "id": "1XBt-2bD1hBV"
      }
    },
    {
      "cell_type": "code",
      "source": [
        "class Calculator:\n",
        "   def add(self, a, b=0):\n",
        "       return a + b\n",
        "calc = Calculator()\n",
        "print(calc.add(5)) # 👉 5\n",
        "print(calc.add(5, 3)) # 👉 8"
      ],
      "metadata": {
        "colab": {
          "base_uri": "https://localhost:8080/"
        },
        "id": "JvgGvDzx1zjG",
        "outputId": "61db1a67-cbca-415b-ea9d-ccd9fd48fdd9"
      },
      "execution_count": 11,
      "outputs": [
        {
          "output_type": "stream",
          "name": "stdout",
          "text": [
            "5\n",
            "8\n"
          ]
        }
      ]
    },
    {
      "cell_type": "markdown",
      "source": [
        "●\n",
        "Here, the add() method can work with one or two arguments, simulating overloading.\n",
        "\n",
        "🛠 *2. Using args (Variable-Length Arguments):"
      ],
      "metadata": {
        "id": "nG1Otv0s1-9f"
      }
    },
    {
      "cell_type": "code",
      "source": [
        "class Calculator:\n",
        "   def add(self, *args):\n",
        "       return sum(args)\n",
        "calc = Calculator()\n",
        "print(calc.add(5, 3)) # 👉 8\n",
        "print(calc.add(1, 2, 3, 4)) # 👉 10"
      ],
      "metadata": {
        "colab": {
          "base_uri": "https://localhost:8080/"
        },
        "id": "K9FPb16g2E0f",
        "outputId": "72e11de6-29f2-49eb-f73b-9a3fc6abecf1"
      },
      "execution_count": 12,
      "outputs": [
        {
          "output_type": "stream",
          "name": "stdout",
          "text": [
            "8\n",
            "10\n"
          ]
        }
      ]
    },
    {
      "cell_type": "markdown",
      "source": [
        "●\n",
        "*args allows passing a variable number of arguments, letting the method handle any number\n",
        "of parameters.\n",
        "\n",
        "🛠 **3. Using kwargs (Keyword Arguments)\n"
      ],
      "metadata": {
        "id": "sfK7JklO2OxJ"
      }
    },
    {
      "cell_type": "code",
      "source": [
        "class Printer:\n",
        "    def print_info(self, **kwargs):\n",
        "      for key, value in kwargs.items():\n",
        "          print(f\"{key}: {value}\")\n",
        "printer = Printer()\n",
        "printer.print_info(name=\"ANSHUL\", age=21)"
      ],
      "metadata": {
        "colab": {
          "base_uri": "https://localhost:8080/"
        },
        "id": "FEaFsPpj2OPy",
        "outputId": "2bd7d3a5-c418-43c9-c436-8cffd8941022"
      },
      "execution_count": 14,
      "outputs": [
        {
          "output_type": "stream",
          "name": "stdout",
          "text": [
            "name: ANSHUL\n",
            "age: 21\n"
          ]
        }
      ]
    },
    {
      "cell_type": "markdown",
      "source": [
        "●\n",
        " Here, **kwargs allows handling different keyword arguments dynamically.\n",
        "\n",
        "12. What is method overriding in OOP?\n",
        "\n",
        "●\n",
        "🔄 Method Overriding is the ability of a child class to provide a specific implementation of a\n",
        "method that is already defined in its parent class. This allows the child class to modify or\n",
        "extend the behavior of the parent class's method.\n",
        "\n",
        "🔧 How it Works:\n",
        "\n",
        "\n",
        "\n",
        "● The parent class defines a method.\n",
        "\n",
        "● The child class redefines that method, but with its own implementation.\n",
        "● When you call the method on an object of the child class, the child's version is executed, not\n",
        "the parent's.\n",
        "\n",
        "📦 Example:"
      ],
      "metadata": {
        "id": "ECibsCkR2n3R"
      }
    },
    {
      "cell_type": "code",
      "source": [
        "class Animal:\n",
        "   def sound(self):\n",
        "      print(\"Some animal sound\")\n",
        "class Dog(Animal):\n",
        "   def sound(self):\n",
        "      print(\"Dog barks\")\n",
        "\n",
        "class Cat(Animal):\n",
        "   def sound(self):\n",
        "      print(\"Cat meows\")\n",
        "\n",
        "\n",
        "animal = Animal()\n",
        "dog = Dog()\n",
        "cat = Cat()\n",
        "animal.sound() # 👉 Some animal sound\n",
        "dog.sound() # 👉 Dog barks\n",
        "cat.sound() # 👉 Cat meows"
      ],
      "metadata": {
        "colab": {
          "base_uri": "https://localhost:8080/"
        },
        "id": "SQYmXqyo28Yo",
        "outputId": "b39bc4f9-3288-4364-c0fa-280fba4ad505"
      },
      "execution_count": 16,
      "outputs": [
        {
          "output_type": "stream",
          "name": "stdout",
          "text": [
            "Some animal sound\n",
            "Dog barks\n",
            "Cat meows\n"
          ]
        }
      ]
    },
    {
      "cell_type": "markdown",
      "source": [
        "●\n",
        "Here, the Dog and Cat classes override the sound() method from the Animal class with their\n",
        "own specific behavior.\n",
        "\n",
        "13. What is a property decorator in Python?\n",
        "\n",
        "●\n",
        "🏠 A property decorator in Python allows you to define methods that behave like attributes. It\n",
        "enables you to access a method as if it were an attribute, while still allowing for logic or\n",
        "validation to be included in the getter, setter, or deleter methods.\n",
        "\n",
        "🔧 How to Use Property Decorator:\n",
        "\n",
        "\n",
        "\n",
        "●\n",
        "Getter: Using @property to define a method that acts as an attribute.\n",
        "\n",
        "● Setter: Using @.setter to define how the value should be updated.\n",
        "\n",
        "● Deleter: Using @.deleter to define custom deletion behavior.\n",
        "\n",
        "14. Why is polymorphism important in OOP?\n",
        "\n",
        "●\n",
        "🌐 Polymorphism is one of the core principles of Object-Oriented Programming (OOP), and\n",
        "it allows different classes to define methods with the same name but with different behaviors.\n",
        "This concept plays a crucial role in making OOP flexible, scalable, and maintainable.\n",
        "\n",
        "🧠 Why is Polymorphism Crucial?\n",
        "\n",
        "Code Reusability:\n",
        "\n",
        "●\n",
        "Polymorphism allows you to write generic code that can work with objects of different\n",
        "classes. This means you can reuse the same method in different contexts without rewriting\n",
        "code for each type of object.\n",
        "\n",
        "Maintainability:\n",
        "\n",
        "●\n",
        "Since polymorphism enables different classes to have methods with the same name, you\n",
        "only need to update a method in one place (the class). If you want to change how a specific\n",
        "type behaves, you can simply override the method in that class.\n",
        "\n",
        "Simplified Code:\n",
        "\n",
        "●\n",
        "It makes the code cleaner and more readable. You don’t have to deal with different function\n",
        "names for each class—just use the same method name, and the right version gets executed\n",
        "based on the object.\n",
        "\n",
        "Supports Dynamic Behavior:\n",
        "\n",
        "●\n",
        "With polymorphism, Python can determine at runtime which method to call, based on the\n",
        "object type. This leads to more flexible and dynamic behavior.\n",
        "\n",
        "Promotes Flexibility and Extensibility:\n",
        "\n",
        "●\n",
        "Polymorphism is great for extending functionality. As you add new classes, you don’t need to\n",
        "modify existing code—just override methods in new classes. The existing polymorphic code\n",
        "will continue to work without changes.\n",
        "\n",
        "🧰 Example of Polymorphism in Action:"
      ],
      "metadata": {
        "id": "53Zvw7bc4Ro2"
      }
    },
    {
      "cell_type": "code",
      "source": [
        "class Animal:\n",
        "  def speak(self):\n",
        "      print(\"Animal makes a sound\")\n",
        "class Dog(Animal):\n",
        "  def speak(self):\n",
        "      print(\"Dog barks\")\n",
        "class Cat(Animal):\n",
        "  def speak(self):\n",
        "      print(\"Cat meows\")\n",
        "def animal_sound(animal):\n",
        "    animal.speak() # Polymorphism: method call changes based on object\n",
        "type\n",
        "# Creating different objects\n",
        "dog = Dog()\n",
        "cat = Cat()\n",
        "# Same method, different behavior\n",
        "animal_sound(dog) # 👉 Dog barks\n",
        "animal_sound(cat) # 👉 Cat meows"
      ],
      "metadata": {
        "colab": {
          "base_uri": "https://localhost:8080/"
        },
        "id": "ubhM9vUl5Tog",
        "outputId": "cf24d3f2-15dc-4a55-cc85-76910d757495"
      },
      "execution_count": 19,
      "outputs": [
        {
          "output_type": "stream",
          "name": "stdout",
          "text": [
            "Dog barks\n",
            "Cat meows\n"
          ]
        }
      ]
    },
    {
      "cell_type": "markdown",
      "source": [
        "●\n",
        "The same function animal_sound() can work with any Animal object, whether it's a Dog, Cat,\n",
        "or any other animal subclass. Polymorphism allows flexibility without changing the method.\n",
        "\n",
        "15. What is an abstract class in Python?\n",
        "\n",
        "●\n",
        "🏛 An abstract class in Python is a class that cannot be instantiated on its own and is meant\n",
        "to be subclassed by other classes. It serves as a blueprint for other classes, providing a\n",
        "common interface while enforcing the structure of certain methods that must be implemented\n",
        "in any subclass.\n",
        "\n",
        "🔧 How to Create an Abstract Class in Python:\n",
        "\n",
        "●\n",
        "To define an abstract class in Python, we use the abc module (Abstract Base Classes),\n",
        "which provides the base class ABC and the decorator @abstractmethod to mark methods as\n",
        "abstract."
      ],
      "metadata": {
        "id": "jxEVQF_R5trX"
      }
    },
    {
      "cell_type": "code",
      "source": [
        "from abc import ABC, abstractmethod\n",
        "# Abstract class\n",
        "class Animal(ABC):\n",
        "  @abstractmethod\n",
        "  def sound(self):\n",
        "      pass\n",
        "  @abstractmethod\n",
        "  def move(self):\n",
        "      pass\n",
        "# Concrete class\n",
        "class Dog(Animal):\n",
        "  def sound(self):\n",
        "      print(\"Dog barks\")\n",
        "  def move(self):\n",
        "      print(\"Dog runs\")\n",
        "# Concrete class\n",
        "class Bird(Animal):\n",
        "  def sound(self):\n",
        "      print(\"Bird chirps\")\n",
        "  def move(self):\n",
        "      print(\"Bird flies\")\n",
        "# Can't instantiate an abstract class\n",
        "# a = Animal() # This will raise an error\n",
        "# Valid instances\n",
        "d = Dog()\n",
        "d.sound() # 👉 Dog barks\n",
        "d.move() # 👉 Dog runs\n",
        "b = Bird()\n",
        "b.sound() # 👉 Bird chirps\n",
        "b.move() # 👉 Bird flies"
      ],
      "metadata": {
        "colab": {
          "base_uri": "https://localhost:8080/"
        },
        "id": "5faSUOFc57-j",
        "outputId": "990825a4-0157-4d11-d372-1b1022099500"
      },
      "execution_count": 20,
      "outputs": [
        {
          "output_type": "stream",
          "name": "stdout",
          "text": [
            "Dog barks\n",
            "Dog runs\n",
            "Bird chirps\n",
            "Bird flies\n"
          ]
        }
      ]
    },
    {
      "cell_type": "markdown",
      "source": [
        "🚨 Key Points to Note:\n",
        "\n",
        "\n",
        "● Abstract class (Animal) cannot be instantiated directly.\n",
        "\n",
        "● Abstract methods (sound and move) must be overridden in the subclasses (Dog and Bird).\n",
        "\n",
        "● Concrete classes provide their own implementation of abstract methods.\n",
        "\n",
        "16. What are the advantages of OOP?\n",
        "\n",
        "●\n",
        "🏆 Object-Oriented Programming (OOP) brings several key advantages that make software\n",
        "development more efficient, flexible, and manageable. By organizing code into classes and\n",
        "objects, OOP improves reusability, maintainability, and scalability of applications.\n",
        "\n",
        "✅ 1. Modularity:\n",
        "\n",
        "\n",
        "● OOP breaks down a program into smaller, manageable parts (objects and classes).\n",
        "\n",
        "● Each class is like a module, making the code easier to understand, maintain, and test.\n",
        "\n",
        "● This promotes separation of concerns (i.e., each class handles its own specific functionality).\n",
        "\n",
        "✅ 2. Reusability:\n",
        "\n",
        "\n",
        "● Through inheritance, you can reuse existing code (methods and properties) without having to\n",
        "rewrite it.\n",
        "\n",
        "● Once a class is written and tested, it can be reused in different programs.\n",
        "\n",
        "● This leads to less code duplication and saves time in future development.\n",
        "\n",
        "✅ 3. Flexibility and Extensibility:\n",
        "\n",
        "●\n",
        "Polymorphism allows you to use the same method name for different object types."
      ],
      "metadata": {
        "id": "whM8DIOX7IXP"
      }
    },
    {
      "cell_type": "markdown",
      "source": [
        "\n",
        "\n",
        "●\n",
        "You can extend existing classes (using inheritance) without altering the original code, making\n",
        "it easy to introduce new features.\n",
        "\n",
        "● This leads to flexible systems that can adapt to new requirements.\n",
        "\n",
        "✅ 4. Encapsulation:\n",
        "\n",
        "\n",
        "● Encapsulation keeps the internal state of an object hidden and only exposes a public\n",
        "interface (via methods).\n",
        "\n",
        "● This helps to protect data and ensures that an object’s internal state is not changed\n",
        "unexpectedly.\n",
        "\n",
        "● It also makes it easier to debug since you can isolate issues within individual objects.\n",
        "\n",
        "✅ 5. Abstraction:\n",
        "\n",
        "\n",
        "● Abstraction hides complex details and shows only the necessary information.\n",
        "\n",
        "●It allows programmers to interact with objects through simplified interfaces while hiding the\n",
        "implementation details.\n",
        "\n",
        "● This leads to cleaner, more understandable code.\n",
        "\n",
        "✅ 6. Easier Maintenance and Modification:\n",
        "\n",
        "● Since OOP encourages the use of modular code, it becomes easier to update and maintain.\n",
        "\n",
        "● Changes in one class usually don’t affect others, reducing the risk of introducing bugs.\n",
        "\n",
        "● It’s easy to add or modify features without affecting the whole system, making maintenance\n",
        "more efficient.\n",
        "\n",
        "✅ 7. Improved Productivity:\n",
        "\n",
        "\n",
        "● OOP’s organization of code into classes and objects leads to better collaboration among\n",
        "teams of developers.\n",
        "\n",
        "● Code can be maintained and extended by different teams working on different modules\n",
        "independently.\n",
        "\n",
        "● Code libraries and frameworks often use OOP, giving developers access to tools that make\n",
        "development faster.\n",
        "\n",
        "✅ 8. Increased Security:\n",
        "\n",
        "\n",
        "● OOP allows you to control access to data through getter and setter methods, which helps in\n",
        "protecting data integrity.\n",
        "\n",
        "● Access modifiers (e.g., private, protected, public) help in restricting access to an object’s\n",
        "internal state and behavior, enhancing security.\n",
        "\n",
        "17. What is the difference between a class variable and an instance variable?\n",
        "\n",
        "\n",
        "● 🔑 In Python, class variables and instance variables are used to store data, but they differ in\n",
        "terms of their scope and behavior within the class and objects. Let’s break down the key\n",
        "differences:\n",
        "\n",
        "\n",
        "🧠 Class Variables:\n",
        "\n",
        "\n",
        "● Defined inside the class but outside any methods.\n",
        "\n",
        "● Shared among all instances (objects) of the class.\n",
        "\n",
        "● If a class variable is modified, the change is reflected across all instances.\n",
        "\n",
        "● Typically used for data that should be shared across all objects of the class (like constants or\n",
        "shared resources).\n",
        "\n",
        "🧠 Instance Variables:\n",
        "\n",
        "\n",
        "● Defined inside methods (usually the init() constructor) using the self keyword.\n",
        "● Unique to each instance (object) of the class.\n",
        "\n",
        "● Each object has its own copy of instance variables.\n",
        "\n",
        "● Used for object-specific data that can vary across different instances.\n",
        "\n",
        "18. What is multiple inheritance in Python?\n",
        "\n",
        "\n",
        "● 🔄Multiple inheritance in Python is a feature that allows a class to inherit from more than one\n",
        "parent class. This means that a child class can inherit attributes and methods from multiple\n",
        "parent classes, enabling a richer and more flexible class structure.\n",
        "\n",
        "🔧 How Multiple Inheritance Works in Python:\n",
        "\n",
        "● Python supports multiple inheritance by allowing a class to inherit from multiple parent\n",
        "classes. When a method is called on an instance of the child class, Python follows the MRO\n",
        "to determine which method to execute, based on the class hierarchy.\n",
        "\n",
        "📦 Example of Multiple Inheritance:"
      ],
      "metadata": {
        "id": "xRJQt90678mb"
      }
    },
    {
      "cell_type": "code",
      "source": [
        "class Animal:\n",
        "   def speak(self):\n",
        "       print(\"Animal makes a sound\")\n",
        "class Mammal:\n",
        "   def has_hair(self):\n",
        "       print(\"Mammals have hair\")\n",
        "class Dog(Animal, Mammal): # Dog inherits from both Animal and Mammal\n",
        "   def bark(self):\n",
        "       print(\"Dog barks\")\n",
        "# Create an instance of Dog\n",
        "dog = Dog()\n",
        "# Accessing methods from both parent classes\n",
        "dog.speak() # 👉 Animal makes a sound\n",
        "dog.has_hair() # 👉 Mammals have hair\n",
        "\n",
        "dog.bark() # 👉 Dog barks"
      ],
      "metadata": {
        "colab": {
          "base_uri": "https://localhost:8080/"
        },
        "id": "IOf3xt5T9q_P",
        "outputId": "f2db79d8-681c-4113-af7a-a183ea54b5a5"
      },
      "execution_count": 21,
      "outputs": [
        {
          "output_type": "stream",
          "name": "stdout",
          "text": [
            "Animal makes a sound\n",
            "Mammals have hair\n",
            "Dog barks\n"
          ]
        }
      ]
    },
    {
      "cell_type": "markdown",
      "source": [
        "in this example:\n",
        "\n",
        "\n",
        "● Dog inherits from both Animal and Mammal.\n",
        "\n",
        "● It has access to methods from both parent classes (speak from Animal and has_hair from\n",
        "Mammal), as well as its own method bark.\n",
        "\n",
        "19. Explain the purpose of ‘’__str__’ and ‘__repr__’ ‘ methods in Python.\n",
        "\n",
        "🎯 Purpose of str and repr Methods in Python\n",
        "\n",
        "●\n",
        "In Python, both the str and repr methods are used to define how an object is represented as\n",
        "a string. However, they serve slightly different purposes:\n",
        "\n",
        "1. str Method:\n",
        "\n",
        "●\n",
        "Purpose: The str method is used to define the informal or user-friendly string representation\n",
        "of an object. It is meant to be readable and is called by the str() function or when you print an\n",
        "object.\n",
        "\n",
        "●\n",
        "Use case: It should return a string that is easy to read and gives a clear description of the\n",
        "object, useful for end-users.\n",
        "\n",
        "2. repr Method:\n",
        "\n",
        "●\n",
        "Purpose: The repr method is used to define the formal or official string representation of an\n",
        "object. It is meant to be unambiguous and can often be used to recreate the object. The\n",
        "output of repr is intended for developers, especially for debugging.\n",
        "\n",
        "●\n",
        "Use case: It should return a string that, ideally, could be used to recreate the object using the\n",
        "eval() function, though this is not always necessary.\n",
        "\n",
        "󰳕 Example:"
      ],
      "metadata": {
        "id": "5xLqAsFB-HG7"
      }
    },
    {
      "cell_type": "code",
      "source": [
        "class Car:\n",
        "   def __init__(self, brand, model, year):\n",
        "       self.brand = brand\n",
        "       self.model = model\n",
        "       self.year = year\n",
        "# Informal string representation (for end users)\n",
        "   def __str__(self):\n",
        "       return f\"{self.year} {self.brand} {self.model}\"\n",
        "# Formal string representation (for developers)\n",
        "   def __repr__(self):\n",
        "       return f\"Car('{self.brand}', '{self.model}', {self.year})\"\n",
        "\n",
        "# Creating an object\n",
        "car = Car(\"Toyota\", \"Corolla\", 2020)\n",
        "# Using __str__ (called by print or str())\n",
        "print(str(car)) # 👉 2020 Toyota Corolla\n",
        "# Using __repr__ (called by repr() or in the interpreter)\n",
        "print(repr(car)) # 👉 Car('Toyota', 'Corolla', 2020)"
      ],
      "metadata": {
        "colab": {
          "base_uri": "https://localhost:8080/"
        },
        "id": "RszA2uhK9X0a",
        "outputId": "c9016952-c652-4799-b399-185a094b6e56"
      },
      "execution_count": 22,
      "outputs": [
        {
          "output_type": "stream",
          "name": "stdout",
          "text": [
            "2020 Toyota Corolla\n",
            "Car('Toyota', 'Corolla', 2020)\n"
          ]
        }
      ]
    },
    {
      "cell_type": "markdown",
      "source": [
        "20. What is the significance of the ‘super()’ function in Python?\n",
        "\n",
        "●\n",
        "🚀 The super() function in Python is used to call a method from a parent class (also known\n",
        "as a superclass) from within a child class (subclass). It is most commonly used in inheritance\n",
        "scenarios to extend or modify the behavior of inherited methods.\n",
        "\n",
        "🧠 Key Uses of super():\n",
        "\n",
        "Calling Methods from the Parent Class:\n",
        "\n",
        "\n",
        "● super() allows you to call methods from a parent class without explicitly referring to the\n",
        "parent class name.\n",
        "\n",
        "●This is especially useful in multiple inheritance scenarios to ensure that the correct method\n",
        "from the parent class is called, following the Method Resolution Order (MRO).\n",
        "\n",
        "Avoiding Explicit Parent Class Names:\n",
        "\n",
        "\n",
        "● Using super() ensures that the child class code is more maintainable and extensible because\n",
        "it doesn't rely on hardcoded parent class names. This is particularly helpful when you change\n",
        "the parent class or add more levels to the inheritance hierarchy.\n",
        "\n",
        "Ensuring Proper Initialization:\n",
        "\n",
        "●\n",
        "super() is often used in the init method of a child class to ensure that the parent class’s\n",
        "initialization method is called properly. This allows the child class to inherit and extend\n",
        "functionality from the parent class.\n",
        "\n",
        "󰳕 Example of super() in Single Inheritance:"
      ],
      "metadata": {
        "id": "2rVhSYEi_DCl"
      }
    },
    {
      "cell_type": "code",
      "source": [
        "class Animal:\n",
        "   def __init__(self, name):\n",
        "       self.name = name\n",
        "   def speak(self):\n",
        "       print(f\"{self.name} makes a sound\")\n",
        "class Dog(Animal):\n",
        "   def __init__(self, name, breed):\n",
        "        # Call parent class's __init__ method using super()\n",
        "        super().__init__(name) # Initialize the 'name' attribute from Animal class\n",
        "        self.breed = breed\n",
        "   def speak(self):\n",
        "# Call parent class's speak method using super()\n",
        "       super().speak() # Invoke Animal's speak method\n",
        "       print(f\"{self.name} barks!\")\n",
        "# Create an instance of Dog\n",
        "class Animal:\n",
        "   def __init__(self, name):\n",
        "       self.name = name\n",
        "   def speak(self):\n",
        "       print(f\"{self.name} makes a sound\")\n",
        "class Dog(Animal):\n",
        "   def __init__(self, name, breed):\n",
        "        # Call parent class's __init__ method using super()\n",
        "        super().__init__(name) # Initialize the 'name' attribute from Animal class\n",
        "        self.breed = breed\n",
        "   def speak(self):\n",
        "# Call parent class's speak method using super()\n",
        "       super().speak() # Invoke Animal's speak method\n",
        "       print(f\"{self.name} barks!\")\n",
        "# Create an instance of Dog\n",
        "dog = Dog(\"Buddy\", \"Golden Retriever\")\n",
        "dog.speak()"
      ],
      "metadata": {
        "colab": {
          "base_uri": "https://localhost:8080/"
        },
        "id": "FrloyOA4_XRL",
        "outputId": "3c2dfd74-57a0-436f-84b7-e23c0b9fde7c"
      },
      "execution_count": 27,
      "outputs": [
        {
          "output_type": "stream",
          "name": "stdout",
          "text": [
            "Buddy makes a sound\n",
            "Buddy barks!\n"
          ]
        }
      ]
    },
    {
      "cell_type": "markdown",
      "source": [
        "21. What is the significance of the __del__ method in Python?\n",
        "\n",
        "●\n",
        "🗑 The del method in Python is a destructor. It is called automatically when an object is\n",
        "about to be destroyed (i.e., when it is no longer in use and is being garbage collected).\n",
        "\n",
        "🔧 Syntax:"
      ],
      "metadata": {
        "id": "kuhS125SA1zF"
      }
    },
    {
      "cell_type": "code",
      "source": [
        "def __del__(self):\n",
        "    # cleanup code\n",
        "    pass"
      ],
      "metadata": {
        "id": "HqMFAEH3A4i-"
      },
      "execution_count": 29,
      "outputs": []
    },
    {
      "cell_type": "markdown",
      "source": [
        "🧠 Purpose of del:\n",
        "\n",
        "\n",
        "● To perform cleanup operations before an object is destroyed.\n",
        "\n",
        "● Used to release external resources like:\n",
        "\n",
        "●Open files\n",
        "\n",
        "● Database connections\n",
        "\n",
        "●Network sockets\n",
        "\n",
        "\n",
        "\n",
        "●\n",
        "Temporary memory allocations\n",
        "\n",
        "📦 Example:"
      ],
      "metadata": {
        "id": "QC7_itu3BLT2"
      }
    },
    {
      "cell_type": "code",
      "source": [
        "class FileHandler:\n",
        "   def __init__(self, filename):\n",
        "       self.file = open(filename, 'w')\n",
        "       print(\"File opened.\")\n",
        "   def write(self, content):\n",
        "       self.file.write(content)\n",
        "   def __del__(self):\n",
        "      self.file.close()\n",
        "print(\"File closed and object deleted.\")\n",
        "handler = FileHandler(\"sample.txt\")\n",
        "handler.write(\"Hello, Python!\")\n",
        "# When 'handler' goes out of scope or program ends, __del__ is called.File\n",
        "class FileHandler:\n",
        "   def __init__(self, filename):\n",
        "       self.file = open(filename, 'w')\n",
        "       print(\"File opened.\")\n",
        "   def write(self, content):\n",
        "       self.file.write(content)\n",
        "   def __del__(self):\n",
        "      self.file.close()\n",
        "      print(\"File closed and object deleted.\")\n",
        "handler = FileHandler(\"sample.txt\")\n",
        "handler.write(\"Hello, Python!\")\n",
        "# When 'handler' goes out of scope or program ends, __del__ is called.\n",
        "# File opened.\n",
        "# File closed and object deleted."
      ],
      "metadata": {
        "colab": {
          "base_uri": "https://localhost:8080/"
        },
        "id": "FSwhItpGBnrg",
        "outputId": "4bc5fa58-1a0f-4f97-941a-b36dc3ecbba8"
      },
      "execution_count": 31,
      "outputs": [
        {
          "output_type": "stream",
          "name": "stdout",
          "text": [
            "File closed and object deleted.\n",
            "File opened.\n",
            "File opened.\n"
          ]
        }
      ]
    },
    {
      "cell_type": "markdown",
      "source": [
        "22. What is the difference between @staticmethod and @classmethod in Python?\n",
        "\n",
        "●\n",
        "🔍 In Python, both @staticmethod and @classmethod are decorators used to define\n",
        "methods that are not regular instance methods. However, they serve different purposes and\n",
        "behave differently.\n",
        "\n",
        "🔧 @staticmethod:\n",
        "\n",
        "\n",
        "● Behaves like a regular function, just placed inside a class.\n",
        "\n",
        "● Does not receive self or cls.\n",
        "\n",
        "● Can’t access or modify class or instance state."
      ],
      "metadata": {
        "id": "C9blqjrtCHmm"
      }
    },
    {
      "cell_type": "code",
      "source": [
        "class MathUtils:\n",
        "   @staticmethod\n",
        "   def add(x, y):\n",
        "       return x + y\n",
        "print(MathUtils.add(5, 3)) # Output: 8"
      ],
      "metadata": {
        "colab": {
          "base_uri": "https://localhost:8080/"
        },
        "id": "iYAUvB1QCacZ",
        "outputId": "92ee5021-acfd-404c-dc83-bc7f851aa074"
      },
      "execution_count": 32,
      "outputs": [
        {
          "output_type": "stream",
          "name": "stdout",
          "text": [
            "8\n"
          ]
        }
      ]
    },
    {
      "cell_type": "markdown",
      "source": [
        "🛠 @classmethod:\n",
        "\n",
        "\n",
        "\n",
        "●Receives the class (cls) as the first argument.\n",
        "\n",
        "● Can access and modify class-level variables or create objects."
      ],
      "metadata": {
        "id": "eAhHqQXbCnkr"
      }
    },
    {
      "cell_type": "code",
      "source": [
        "class Person:\n",
        "    species = \"Human\"\n",
        "\n",
        "    def __init__(self, name):\n",
        "        self.name = name\n",
        "\n",
        "    @classmethod\n",
        "    def from_string(cls, info):\n",
        "        name = info.split(\"-\")[0]\n",
        "        return cls(name)\n",
        "\n",
        "    @classmethod\n",
        "    def change_species(cls, new_species): # Indented to be part of the Person class\n",
        "        cls.species = new_species\n",
        "\n",
        "# Factory method example\n",
        "p = Person.from_string(\"ANSHUL-2025\")\n",
        "print(p.name)  # Output: ANSHUL\n",
        "# Class variable modification\n",
        "\n",
        "Person.change_species(\"Cyborg\")\n",
        "print(Person.species)  # Output: Cyborg"
      ],
      "metadata": {
        "colab": {
          "base_uri": "https://localhost:8080/"
        },
        "id": "yiZSNxlkDb57",
        "outputId": "35b803b0-899f-4246-d20d-b034a0c23e91"
      },
      "execution_count": 35,
      "outputs": [
        {
          "output_type": "stream",
          "name": "stdout",
          "text": [
            "ANSHUL\n",
            "Cyborg\n"
          ]
        }
      ]
    },
    {
      "cell_type": "markdown",
      "source": [
        "23. How does polymorphism work in Python with inheritance?\n",
        "\n",
        "✅ What is Polymorphism?\n",
        "\n",
        "\n",
        "● Polymorphism means “many forms”. In Python, it allows objects of different classes to be\n",
        "treated as objects of a common superclass, especially when they override the same method.\n",
        "\n",
        "● With inheritance, polymorphism lets you use the same method name across multiple\n",
        "subclasses, but with different behaviors.\n",
        "\n",
        "🧬 How It Works:\n",
        "\n",
        "\n",
        "● A parent class defines a method.\n",
        "\n",
        "● Child classes inherit from it and can override that method.\n",
        "\n",
        "● A common interface (like a function or loop) calls that method, and Python decides at\n",
        "runtime which version to run based on the object’s actual class.\n",
        "\n",
        "󰳕 Example in Code:"
      ],
      "metadata": {
        "id": "ThMg1a1WDrHa"
      }
    },
    {
      "cell_type": "code",
      "source": [
        "class Animal:\n",
        "    def speak(self):\n",
        "        print(\"Animal makes a sound\")\n",
        "\n",
        "class Dog(Animal):\n",
        "    def speak(self):\n",
        "        print(\"Dog barks\")\n",
        "\n",
        "class Cat(Animal):\n",
        "    def speak(self):\n",
        "        print(\"Cat meows\")\n",
        "\n",
        "def make_it_speak(animal):\n",
        "    animal.speak() # Polymorphic behavior\n",
        "\n",
        "# Different objects, same method call\n",
        "make_it_speak(Dog()) # Output: Dog barks\n",
        "make_it_speak(Cat()) # Output: Cat meows"
      ],
      "metadata": {
        "colab": {
          "base_uri": "https://localhost:8080/"
        },
        "id": "jTjWH0j1ELAf",
        "outputId": "36f32efd-823a-48ef-8e24-c05c7545d3f2"
      },
      "execution_count": 37,
      "outputs": [
        {
          "output_type": "stream",
          "name": "stdout",
          "text": [
            "Dog barks\n",
            "Cat meows\n"
          ]
        }
      ]
    },
    {
      "cell_type": "markdown",
      "source": [
        "24. What is method chaining in Python OOP?\n",
        "\n",
        "\n",
        "●\n",
        "🔗Method Chaining is a coding technique where multiple methods are called sequentially on\n",
        "the same object in a single line, using the dot . operator.\n",
        "\n",
        "● Each method returns the object itself (usually using return self), which allows the next\n",
        "method to be called on it.\n",
        "\n",
        "\n",
        "Example"
      ],
      "metadata": {
        "id": "jA5VQxb2EQ-U"
      }
    },
    {
      "cell_type": "code",
      "source": [
        "class MessageBuilder:\n",
        "    def __init__(self):\n",
        "        self.message = \"\"\n",
        "    def greet(self):\n",
        "        self.message += \"Hello \"\n",
        "        return self # returning self enables chaining\n",
        "    def name(self, username):\n",
        "        self.message += username\n",
        "        return self\n",
        "    def exclaim(self):\n",
        "        self.message += \"!\"\n",
        "        return self\n",
        "    def show(self):\n",
        "        print(self.message)\n",
        "# Method chaining in action\n",
        "MessageBuilder().greet().name(\"ANSHUL\").exclaim().show()\n",
        "# Output: Hello ANSHUL!"
      ],
      "metadata": {
        "colab": {
          "base_uri": "https://localhost:8080/"
        },
        "id": "dvwI3iXuEsme",
        "outputId": "bd963b9e-36b5-404c-cc96-64970b44d5d9"
      },
      "execution_count": 39,
      "outputs": [
        {
          "output_type": "stream",
          "name": "stdout",
          "text": [
            "Hello ANSHUL!\n"
          ]
        }
      ]
    },
    {
      "cell_type": "markdown",
      "source": [
        "25. What is the purpose of the __call__ method in Python?\n",
        "\n",
        "●\n",
        "🔄 The call method in Python allows an instance of a class to be called like a function."
      ],
      "metadata": {
        "id": "KIQFzQ-UFBcE"
      }
    },
    {
      "cell_type": "code",
      "source": [
        "class Greeter:\n",
        "    def __init__(self, name):\n",
        "        self.name = name\n",
        "    def __call__(self, message):\n",
        "        print(f\"{message}, {self.name}!\")\n",
        "greet = Greeter(\"ANSHUL\")\n",
        "greet(\"Good morning\") # Equivalent to greet.__call__(\"Good morning\")"
      ],
      "metadata": {
        "colab": {
          "base_uri": "https://localhost:8080/"
        },
        "id": "6d7xr9b6FOIS",
        "outputId": "34abcd23-07e3-4f7c-ef16-b331a13e9a20"
      },
      "execution_count": 41,
      "outputs": [
        {
          "output_type": "stream",
          "name": "stdout",
          "text": [
            "Good morning, ANSHUL!\n"
          ]
        }
      ]
    },
    {
      "cell_type": "code",
      "source": [
        "\n",
        "#1. Create a parent class Animal with a method speak() that prints a generic message. Create a child class Dogthat overrides the speak() method to print\n",
        "\"Bark!\"\n",
        "class Animal:\n",
        "  def speak(self):\n",
        "      print(\"The animal makes a sound.\")\n",
        "class Dog(Animal):\n",
        "  def speak(self):\n",
        "      print(\"Bark!\")\n",
        "genericanimal = Animal()\n",
        "genericanimal.speak()\n",
        "dog = Dog()\n",
        "dog.speak()\n",
        "#The animal makes a sound.\n",
        "#Bark!"
      ],
      "metadata": {
        "colab": {
          "base_uri": "https://localhost:8080/"
        },
        "id": "Szhk02_dgaqo",
        "outputId": "e89e16bf-dca4-4696-a845-c1644ed54f8a"
      },
      "execution_count": 43,
      "outputs": [
        {
          "output_type": "stream",
          "name": "stdout",
          "text": [
            "The animal makes a sound.\n",
            "Bark!\n"
          ]
        }
      ]
    },
    {
      "cell_type": "code",
      "source": [
        "#2. Write a program to create an abstract class Shape with a method area().Derive classes Circle and Rectanglefrom it and implement the area() method inboth.\n",
        "from abc import ABC, abstractmethod\n",
        "import math\n",
        "class Shape(ABC):\n",
        "  @abstractmethod\n",
        "  def area(self):\n",
        "      pass\n",
        "class Circle(Shape):\n",
        "  def __init__(self, radius): # Changed init to __init__\n",
        "\n",
        "      self.radius = radius\n",
        "  def area(self):\n",
        "      return math.pi * self.radius ** 2\n",
        "class Rectangle(Shape):\n",
        "  def __init__(self, length, width): # Changed definit to __init__\n",
        "      self.length = length\n",
        "      self.width = width\n",
        "  def area(self):\n",
        "      return self.length * self.width\n",
        "\n",
        "circle = Circle(5)\n",
        "rectangle = Rectangle(4, 6)\n",
        "print(f\"Circle Area: {circle.area():.2f}\")\n",
        "print(f\"Rectangle Area: {rectangle.area()}\")"
      ],
      "metadata": {
        "colab": {
          "base_uri": "https://localhost:8080/"
        },
        "id": "fan_DD_7i4px",
        "outputId": "770934c2-0f23-45a4-a138-52467e0bd929"
      },
      "execution_count": 49,
      "outputs": [
        {
          "output_type": "stream",
          "name": "stdout",
          "text": [
            "Circle Area: 78.54\n",
            "Rectangle Area: 24\n"
          ]
        }
      ]
    },
    {
      "cell_type": "code",
      "source": [
        "#3. Implement a multi-level inheritance scenario where a class Vehicle has anattribute type. Derive a class Carand further derive a class ElectricCar thatadds a battery attribute.\n",
        "class Vehicle:\n",
        "    def __init__(self, vehicle_type): # Indented to be part of the Vehicle class\n",
        "        self.type = vehicle_type\n",
        "\n",
        "class Car(Vehicle):\n",
        "    def __init__(self, vehicle_type, brand): # Indented to be part of the Car class\n",
        "        super().__init__(vehicle_type)\n",
        "        self.brand = brand\n",
        "\n",
        "class ElectricCar(Car):\n",
        "    def __init__(self, vehicle_type, brand, battery_capacity): # Indented to be part of the ElectricCar class\n",
        "        super().__init__(vehicle_type, brand)\n",
        "        self.battery = battery_capacity\n",
        "\n",
        "    def display_info(self): # Indented to be part of the ElectricCar class\n",
        "        print(f\"Type: {self.type}\")\n",
        "        print(f\"Brand: {self.brand}\")\n",
        "        print(f\"Battery: {self.battery} kWh\")\n",
        "\n",
        "tesla = ElectricCar(\"Four-wheeler\", \"Tesla\", 75)\n",
        "tesla.display_info() # Calling the method with correct name"
      ],
      "metadata": {
        "colab": {
          "base_uri": "https://localhost:8080/"
        },
        "id": "-zjfJCECjL73",
        "outputId": "722985b6-ee47-4c7c-efe9-7921d6cbdaee"
      },
      "execution_count": 51,
      "outputs": [
        {
          "output_type": "stream",
          "name": "stdout",
          "text": [
            "Type: Four-wheeler\n",
            "Brand: Tesla\n",
            "Battery: 75 kWh\n"
          ]
        }
      ]
    },
    {
      "cell_type": "code",
      "source": [
        "#4. Demonstrate polymorphism by creating a base class Bird with a methodfly(). Create two derived classesSparrow and Penguin that override the fly()method.\n",
        "class Bird:\n",
        "    def fly(self):\n",
        "        print(\"Some birds can fly.\") # Added closing quotation mark\n",
        "\n",
        "class Sparrow(Bird):\n",
        "    def fly(self):\n",
        "        print(\"Sparrow flies high in the sky.\") # Added closing quotation mark\n",
        "\n",
        "class Penguin(Bird):\n",
        "    def fly(self):\n",
        "        print(\"Penguins can't fly, but they swim well.\") # Added closing quotation mark\n",
        "\n",
        "\n",
        "def bird_fly_test(bird): # Corrected function name\n",
        "    bird.fly()\n",
        "\n",
        "birds = [Sparrow(), Penguin()]\n",
        "for bird in birds:\n",
        "    bird_fly_test(bird) # Corrected function call"
      ],
      "metadata": {
        "colab": {
          "base_uri": "https://localhost:8080/"
        },
        "id": "2oQ9p9fMjd0J",
        "outputId": "0ebe28c0-a877-49e7-9cc9-439dc06c36bb"
      },
      "execution_count": 54,
      "outputs": [
        {
          "output_type": "stream",
          "name": "stdout",
          "text": [
            "Sparrow flies high in the sky.\n",
            "Penguins can't fly, but they swim well.\n"
          ]
        }
      ]
    },
    {
      "cell_type": "code",
      "source": [
        "#5. Write a program to demonstrate encapsulation by creating a classBankAccount with private attributesbalance and methods to deposit, withdraw,and check balance.\n",
        "class BankAccount:\n",
        "    def __init__(self, initial_balance=0):\n",
        "        self.__balance = initial_balance\n",
        "    def deposit(self, amount):\n",
        "        if amount > 0:\n",
        "            self.__balance += amount\n",
        "            print(f\"Deposited: {amount}\") # Added closing quotation mark\n",
        "        else:\n",
        "            print(\"Deposit amount must be positive.\") # Added closing quotation mark\n",
        "    def withdraw(self, amount):\n",
        "        if amount > 0 and amount <= self.__balance:\n",
        "            self.__balance -= amount\n",
        "            print(f\"Withdrawn: {amount}\") # Added closing quotation mark\n",
        "        elif amount > self.__balance:\n",
        "            print(\"Insufficient funds.\") # Added closing quotation mark\n",
        "        else:\n",
        "            print(\"Withdrawal amount must be positive.\") # Added closing quotation mark\n",
        "    def check_balance(self): # Corrected method name to check_balance\n",
        "        print(f\"Current balance: {self.__balance}\") # Added closing quotation mark\n",
        "\n",
        "account = BankAccount(1000)\n",
        "account.deposit(500)\n",
        "account.withdraw(200)\n",
        "account.check_balance() # Corrected method call to check_balance"
      ],
      "metadata": {
        "colab": {
          "base_uri": "https://localhost:8080/"
        },
        "id": "HwOBwAK_jy8g",
        "outputId": "19fe0dc5-340a-4af5-9dae-b69844e3b5ad"
      },
      "execution_count": 56,
      "outputs": [
        {
          "output_type": "stream",
          "name": "stdout",
          "text": [
            "Deposited: 500\n",
            "Withdrawn: 200\n",
            "Current balance: 1300\n"
          ]
        }
      ]
    },
    {
      "cell_type": "code",
      "source": [
        "#6. Demonstrate runtime polymorphism using a method play() in a base classInstrument. Derive classes Guitarand Piano that implement their own version ofplay().\n",
        "\n",
        "class Instrument:\n",
        "    def play(self):\n",
        "        print(\"Playing a generic instrument sound...\")\n",
        "\n",
        "class Guitar(Instrument):\n",
        "    def play(self):\n",
        "        print(\"Strumming the guitar...\")\n",
        "\n",
        "class Piano(Instrument):\n",
        "    def play(self):\n",
        "        print(\"Playing the piano keys...\")\n",
        "\n",
        "def play_instrument(instrument):\n",
        "    instrument.play()  # Polymorphic call\n",
        "\n",
        "# Creating instances of different instruments\n",
        "guitar = Guitar()\n",
        "piano = Piano()\n",
        "\n",
        "# Calling play_instrument() with different objects\n",
        "play_instrument(guitar)  # Output: Strumming the guitar...\n",
        "play_instrument(piano)   # Output: Playing the piano keys..."
      ],
      "metadata": {
        "colab": {
          "base_uri": "https://localhost:8080/"
        },
        "id": "gIY6kBkzkZ32",
        "outputId": "d6c0e157-e2da-432f-9117-be96e592acd2"
      },
      "execution_count": 57,
      "outputs": [
        {
          "output_type": "stream",
          "name": "stdout",
          "text": [
            "Strumming the guitar...\n",
            "Playing the piano keys...\n"
          ]
        }
      ]
    },
    {
      "cell_type": "code",
      "source": [
        "#7. Create a class MathOperations with a class method addnumbers() to add two numbers and a staticmethod subtract numbers() to subtract two numbers.\n",
        "\n",
        "class MathOperations:\n",
        "    @classmethod\n",
        "    def add_numbers(cls, num1, num2):\n",
        "        return num1 + num2\n",
        "\n",
        "    @staticmethod\n",
        "    def subtract_numbers(num1, num2):\n",
        "        return num1 - num2\n",
        "\n",
        "# Example usage:\n",
        "result_add = MathOperations.add_numbers(5, 3)  # Calling class method\n",
        "result_subtract = MathOperations.subtract_numbers(5, 3)  # Calling static method\n",
        "\n",
        "print(f\"Addition: {result_add}\")  # Output: Addition: 8\n",
        "print(f\"Subtraction: {result_subtract}\")  # Output: Subtraction: 2"
      ],
      "metadata": {
        "colab": {
          "base_uri": "https://localhost:8080/"
        },
        "id": "N37p53UCkuAq",
        "outputId": "8850c459-981b-4f78-eb4b-965a35e75a2a"
      },
      "execution_count": 59,
      "outputs": [
        {
          "output_type": "stream",
          "name": "stdout",
          "text": [
            "Addition: 8\n",
            "Subtraction: 2\n"
          ]
        }
      ]
    },
    {
      "cell_type": "code",
      "source": [
        "#8. Implement a class Person with a class method to count the total number ofpersons created class Person:\n",
        "\n",
        "class Person:\n",
        "    count = 0  # Class variable to store the count\n",
        "\n",
        "    def __init__(self, name):\n",
        "        self.name = name\n",
        "        Person.count += 1  # Increment count when a new Person is created\n",
        "\n",
        "    @classmethod\n",
        "    def get_total_persons(cls):\n",
        "        return cls.count\n",
        "\n",
        "# Create some Person objects\n",
        "person1 = Person(\"Alice\")\n",
        "person2 = Person(\"Bob\")\n",
        "person3 = Person(\"Charlie\")\n",
        "\n",
        "# Get the total number of persons\n",
        "total_persons = Person.get_total_persons()\n",
        "print(f\"Total persons created: {total_persons}\")  # Output: Total persons created: 3"
      ],
      "metadata": {
        "colab": {
          "base_uri": "https://localhost:8080/"
        },
        "id": "G5IvlueMlGB7",
        "outputId": "ef427499-3493-49e0-cc76-3cb2128d49a3"
      },
      "execution_count": 60,
      "outputs": [
        {
          "output_type": "stream",
          "name": "stdout",
          "text": [
            "Total persons created: 3\n"
          ]
        }
      ]
    },
    {
      "cell_type": "code",
      "source": [
        "#9. Write a class Fraction with attributes numerator and denominator. Override the str method to display thefraction as \"numerator/denominator\"\n",
        "\n",
        "class Fraction:\n",
        "    def __init__(self, numerator, denominator):\n",
        "        self.numerator = numerator\n",
        "        self.denominator = denominator\n",
        "\n",
        "    def __str__(self):\n",
        "        return f\"{self.numerator}/{self.denominator}\"\n",
        "\n",
        "# Example usage\n",
        "fraction = Fraction(3, 4)\n",
        "print(fraction)  # Output: 3/4"
      ],
      "metadata": {
        "colab": {
          "base_uri": "https://localhost:8080/"
        },
        "id": "p5OkjUj9lYxq",
        "outputId": "e8257348-eceb-44cf-d5f9-aed33e20bcf1"
      },
      "execution_count": 61,
      "outputs": [
        {
          "output_type": "stream",
          "name": "stdout",
          "text": [
            "3/4\n"
          ]
        }
      ]
    },
    {
      "cell_type": "code",
      "source": [
        "#10. Demonstrate operator overloading by creating a class Vector andoverriding the add method to add two vectors.\n",
        "\n",
        "class Vector:\n",
        "    def __init__(self, x, y):\n",
        "        self.x = x\n",
        "        self.y = y\n",
        "\n",
        "    def __add__(self, other):\n",
        "        return Vector(self.x + other.x, self.y + other.y)\n",
        "\n",
        "    def __str__(self):\n",
        "        return f\"({self.x}, {self.y})\"\n",
        "\n",
        "# Create two vectors\n",
        "v1 = Vector(2, 3)\n",
        "v2 = Vector(4, 5)\n",
        "\n",
        "# Add the vectors using the overloaded '+' operator\n",
        "v3 = v1 + v2\n",
        "\n",
        "# Print the result\n",
        "print(f\"v1 + v2 = {v3}\")  # Output: v1 + v2 = (6, 8)\n"
      ],
      "metadata": {
        "colab": {
          "base_uri": "https://localhost:8080/"
        },
        "id": "-7mEIZj5lpVx",
        "outputId": "05bab004-4efd-4469-d267-fa555c255d61"
      },
      "execution_count": 62,
      "outputs": [
        {
          "output_type": "stream",
          "name": "stdout",
          "text": [
            "v1 + v2 = (6, 8)\n"
          ]
        }
      ]
    },
    {
      "cell_type": "code",
      "source": [
        "#11. Create a class Person with attributes name and age. Add a method greet() that prints \"Hello, my name is{name} and I am {age} years old.\n",
        "\n",
        "class Person:\n",
        "    def __init__(self, name, age):\n",
        "        self.name = name\n",
        "        self.age = 21\n",
        "\n",
        "    def greet(self):\n",
        "        print(f\"Hello, my name is {self.name} and I am {self.age} years old.\")\n",
        "\n",
        "# Example usage:\n",
        "person = Person(\"ANSHUL\", 21)\n",
        "person.greet()  # Output: Hello, my name is ANSHUL and I am 21 years old."
      ],
      "metadata": {
        "colab": {
          "base_uri": "https://localhost:8080/"
        },
        "id": "7XPJdKskl-CT",
        "outputId": "7b7e828c-982c-459b-de1e-3b275759be7a"
      },
      "execution_count": 66,
      "outputs": [
        {
          "output_type": "stream",
          "name": "stdout",
          "text": [
            "Hello, my name is ANSHUL and I am 21 years old.\n"
          ]
        }
      ]
    },
    {
      "cell_type": "code",
      "source": [
        "#12. Implement a class Student with attributes name and grades. Create agrade() to compute the average of the grades.method average of grades.\n",
        "\n",
        "class Student:\n",
        "    def __init__(self, name, grades):\n",
        "        self.name = name\n",
        "        self.grades = grades\n",
        "\n",
        "    def average_grade(self):\n",
        "        if len(self.grades) == 0:\n",
        "            return 0  # Avoid division by zero if there are no grades\n",
        "        else:\n",
        "            return sum(self.grades) / len(self.grades)\n",
        "\n",
        "# Example usage\n",
        "student1 = Student(\"ANSHUL\", [85, 90, 78, 92])\n",
        "average = student1.average_grade()\n",
        "print(f\"{student1.name}'s average grade: {average}\")  # Output: Bob's average grade: 86.25\n",
        "_"
      ],
      "metadata": {
        "colab": {
          "base_uri": "https://localhost:8080/",
          "height": 53
        },
        "id": "Bi1oLI3Umr-q",
        "outputId": "4edf8b10-b131-43d9-ba46-7631a3ab6cef"
      },
      "execution_count": 68,
      "outputs": [
        {
          "output_type": "stream",
          "name": "stdout",
          "text": [
            "ANSHUL's average grade: 86.25\n"
          ]
        },
        {
          "output_type": "execute_result",
          "data": {
            "text/plain": [
              "''"
            ],
            "application/vnd.google.colaboratory.intrinsic+json": {
              "type": "string"
            }
          },
          "metadata": {},
          "execution_count": 68
        }
      ]
    },
    {
      "cell_type": "code",
      "source": [
        "#13. Create a class Rectangle with methods set dimensions and area() to calculate the area.\n",
        "\n",
        "class Rectangle:\n",
        "    def __init__(self, length=0, width=0):  # Initialize with default values\n",
        "        self.length = length\n",
        "        self.width = width\n",
        "\n",
        "    def set_dimensions(self, length, width):\n",
        "        self.length = length\n",
        "        self.width = width\n",
        "\n",
        "    def area(self):\n",
        "        return self.length * self.width\n",
        "\n",
        "# Example usage:\n",
        "rectangle = Rectangle()  # Create a rectangle object\n",
        "rectangle.set_dimensions(5, 3)  # Set dimensions\n",
        "area = rectangle.area()  # Calculate the area\n",
        "print(f\"Area of the rectangle: {area}\")  # Output: Area of the rectangle: 15"
      ],
      "metadata": {
        "colab": {
          "base_uri": "https://localhost:8080/"
        },
        "id": "6MCz9Qfinuhf",
        "outputId": "a03c9859-eb08-4dbe-e6be-7b8ebaf6a7a7"
      },
      "execution_count": 69,
      "outputs": [
        {
          "output_type": "stream",
          "name": "stdout",
          "text": [
            "Area of the rectangle: 15\n"
          ]
        }
      ]
    },
    {
      "cell_type": "code",
      "source": [
        "#14. Create a class Employee with a method calculate salary() that computesthe salary based on hours worked and hourly rate. Create a derived class Manager that adds a bonus to the salary\n",
        "\n",
        "class Employee:\n",
        "    def __init__(self, name, hours_worked, hourly_rate):\n",
        "        self.name = name\n",
        "        self.hours_worked = hours_worked\n",
        "        self.hourly_rate = hourly_rate\n",
        "\n",
        "    def calculate_salary(self):\n",
        "        return self.hours_worked * self.hourly_rate\n",
        "\n",
        "class Manager(Employee):\n",
        "    def __init__(self, name, hours_worked, hourly_rate, bonus):\n",
        "        super().__init__(name, hours_worked, hourly_rate)\n",
        "        self.bonus = bonus\n",
        "\n",
        "    def calculate_salary(self):\n",
        "        base_salary = super().calculate_salary()\n",
        "        return base_salary + self.bonus\n",
        "\n",
        "# Example usage\n",
        "employee = Employee(\"Alice\", 40, 15)\n",
        "manager = Manager(\"Bob\", 40, 20, 1000)\n",
        "\n",
        "print(f\"{employee.name}'s salary: {employee.calculate_salary()}\")  # Output: Alice's salary: 600\n",
        "print(f\"{manager.name}'s salary: {manager.calculate_salary()}\")    # Output: Bob's salary: 1800"
      ],
      "metadata": {
        "colab": {
          "base_uri": "https://localhost:8080/"
        },
        "id": "x3XueMk8oDlr",
        "outputId": "03b54208-f86e-4b93-b17f-2ff82ec5aa5b"
      },
      "execution_count": 70,
      "outputs": [
        {
          "output_type": "stream",
          "name": "stdout",
          "text": [
            "Alice's salary: 600\n",
            "Bob's salary: 1800\n"
          ]
        }
      ]
    },
    {
      "cell_type": "code",
      "source": [
        "#15. Create a class Product with attributes name, price, and quantity. Implement a method total price() that calculates the total price of the product.\n",
        "\n",
        "class Product:\n",
        "    def __init__(self, name, price, quantity):\n",
        "        self.name = name\n",
        "        self.price = price\n",
        "        self.quantity = quantity\n",
        "\n",
        "    def total_price(self):\n",
        "        return self.price * self.quantity\n",
        "\n",
        "# Example usage\n",
        "product = Product(\"Laptop\", 1200, 2)\n",
        "total_cost = product.total_price()\n",
        "print(f\"Total cost of {product.name}: ${total_cost}\")  # Output: Total cost of Laptop: $2400"
      ],
      "metadata": {
        "colab": {
          "base_uri": "https://localhost:8080/"
        },
        "id": "CFRVxnsjoemE",
        "outputId": "56f3a7ec-f66d-43e7-d1ac-8257570d510b"
      },
      "execution_count": 71,
      "outputs": [
        {
          "output_type": "stream",
          "name": "stdout",
          "text": [
            "Total cost of Laptop: $2400\n"
          ]
        }
      ]
    },
    {
      "cell_type": "code",
      "source": [
        "#16. Create a class Animal with an abstract method sound(). Create two derived classes Cow and Sheep that implement the sound() method.\n",
        "\n",
        "from abc import ABC, abstractmethod\n",
        "\n",
        "class Animal(ABC):\n",
        "    @abstractmethod\n",
        "    def sound(self):\n",
        "        pass\n",
        "\n",
        "class Cow(Animal):\n",
        "    def sound(self):\n",
        "        print(\"Moo!\")\n",
        "\n",
        "class Sheep(Animal):\n",
        "    def sound(self):\n",
        "        print(\"Baa!\")\n",
        "\n",
        "# Example usage\n",
        "cow = Cow()\n",
        "sheep = Sheep()\n",
        "\n",
        "cow.sound()   # Output: Moo!\n",
        "sheep.sound() # Output: Baa!"
      ],
      "metadata": {
        "colab": {
          "base_uri": "https://localhost:8080/"
        },
        "id": "NHHZC1JaoyKq",
        "outputId": "4c6b7c21-2fe7-4071-f421-db9e1b834c58"
      },
      "execution_count": 72,
      "outputs": [
        {
          "output_type": "stream",
          "name": "stdout",
          "text": [
            "Moo!\n",
            "Baa!\n"
          ]
        }
      ]
    },
    {
      "cell_type": "code",
      "source": [
        "#17. Create a class Book with attributes title, author, and year published. Add a method getbook info() that returns a formatted string with the book's details.\n",
        "\n",
        "class Book:\n",
        "    def __init__(self, title, author, year_published):\n",
        "        self.title = title\n",
        "        self.author = author\n",
        "        self.year_published = year_published\n",
        "\n",
        "    def get_book_info(self):\n",
        "        return f\"Title: {self.title}, Author: {self.author}, Year: {self.year_published}\"\n",
        "\n",
        "# Example usage\n",
        "book = Book(\"The Hitchhiker's Guide to the Galaxy\", \"Douglas Adams\", 1979)\n",
        "book_info = book.get_book_info()\n",
        "print(book_info)\n",
        "# Output: Title: The Hitchhiker's Guide to the Galaxy, Author: Douglas Adams, Year: 1979"
      ],
      "metadata": {
        "colab": {
          "base_uri": "https://localhost:8080/"
        },
        "id": "3zRmFOn-pI4h",
        "outputId": "1e27cb9b-624f-41fd-8964-249357d95f20"
      },
      "execution_count": 74,
      "outputs": [
        {
          "output_type": "stream",
          "name": "stdout",
          "text": [
            "Title: The Hitchhiker's Guide to the Galaxy, Author: Douglas Adams, Year: 1979\n"
          ]
        }
      ]
    },
    {
      "cell_type": "code",
      "source": [
        "#18. Create a class House with attributes address and price. Create a derivedclass Mansion that adds an attribute number of rooms.\n",
        "\n",
        "class House:\n",
        "    def __init__(self, address, price):\n",
        "        self.address = address\n",
        "        self.price = price\n",
        "\n",
        "class Mansion(House):\n",
        "    def __init__(self, address, price, num_rooms):\n",
        "        super().__init__(address, price)  # Call the parent class's __init__\n",
        "        self.num_rooms = num_rooms\n",
        "\n",
        "# Example usage\n",
        "house = House(\"123 Main St\", 500000)\n",
        "mansion = Mansion(\"456 Park Ave\", 2000000, 10)\n",
        "\n",
        "print(f\"House address: {house.address}, Price: ${house.price}\")\n",
        "print(f\"Mansion address: {mansion.address}, Price: ${mansion.price}, Rooms: {mansion.num_rooms}\")"
      ],
      "metadata": {
        "colab": {
          "base_uri": "https://localhost:8080/"
        },
        "id": "vcCMfD0FpsuE",
        "outputId": "8a987724-bb41-49c6-918a-3b5855b00fd4"
      },
      "execution_count": 77,
      "outputs": [
        {
          "output_type": "stream",
          "name": "stdout",
          "text": [
            "House address: 123 Main St, Price: $500000\n",
            "Mansion address: 456 Park Ave, Price: $2000000, Rooms: 10\n"
          ]
        }
      ]
    }
  ]
}